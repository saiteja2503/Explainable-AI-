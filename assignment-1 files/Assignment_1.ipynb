{
  "nbformat": 4,
  "nbformat_minor": 0,
  "metadata": {
    "colab": {
      "provenance": []
    },
    "kernelspec": {
      "name": "python3",
      "display_name": "Python 3"
    },
    "language_info": {
      "name": "python"
    }
  },
  "cells": [
    {
      "cell_type": "code",
      "source": [
        "import pandas as pd\n",
        "import numpy as np\n",
        "from sklearn.linear_model import LinearRegression\n",
        "from sklearn.metrics import r2_score, mean_squared_error, mean_absolute_error\n",
        "\n",
        "\n",
        "# 1. Dataset\n",
        "\n",
        "data = {\n",
        "    \"GoogleAds_(₹1000s)\": [1, 2, 3, 1, 2],\n",
        "    \"BooksSold\": [100, 130, 160, 110, 140]\n",
        "}\n",
        "df = pd.DataFrame(data)"
      ],
      "metadata": {
        "id": "T5yxXscJkI1W"
      },
      "execution_count": null,
      "outputs": []
    },
    {
      "cell_type": "code",
      "source": [
        "# 2. Baseline value\n",
        "\n",
        "baseline = df[\"BooksSold\"].mean()\n",
        "print(f\"Baseline value: {baseline}\")"
      ],
      "metadata": {
        "colab": {
          "base_uri": "https://localhost:8080/"
        },
        "id": "zaUsKwHekOlU",
        "outputId": "83e31c68-301d-48eb-b4a1-b6deade67916"
      },
      "execution_count": null,
      "outputs": [
        {
          "output_type": "stream",
          "name": "stdout",
          "text": [
            "Baseline value: 128.0\n"
          ]
        }
      ]
    },
    {
      "cell_type": "code",
      "source": [
        "# 3. Linear Regression\n",
        "\n",
        "X = df[[\"GoogleAds_(₹1000s)\"]]\n",
        "y = df[\"BooksSold\"]\n",
        "\n",
        "model = LinearRegression()\n",
        "model.fit(X, y)\n",
        "\n",
        "intercept = model.intercept_\n",
        "coef = model.coef_[0]"
      ],
      "metadata": {
        "id": "25jrgUt1kXQJ"
      },
      "execution_count": null,
      "outputs": []
    },
    {
      "cell_type": "code",
      "source": [
        "df[\"Predicted_BooksSold\"] = model.predict(X).round(4)\n",
        "df[\"Baseline\"] = round(baseline, 4)\n",
        "df[\"SHAP\"] = (df[\"Predicted_BooksSold\"] - baseline).round(4)\n",
        "df[\"Baseline_plus_SHAP\"] = (df[\"Baseline\"] + df[\"SHAP\"]).round(4)"
      ],
      "metadata": {
        "id": "VOEotgookjq4"
      },
      "execution_count": null,
      "outputs": []
    },
    {
      "cell_type": "code",
      "source": [
        "# 5. Residuals & Over/Under\n",
        "\n",
        "df[\"Residual_(Actual-Predicted)\"] = (df[\"BooksSold\"] - df[\"Predicted_BooksSold\"]).round(4)\n",
        "df[\"Over_Under\"] = df[\"Residual_(Actual-Predicted)\"].apply(\n",
        "    lambda r: \"Underprediction (model too low)\" if r > 0\n",
        "    else (\"Overprediction (model too high)\" if r < 0 else \"Exact\")\n",
        ")"
      ],
      "metadata": {
        "id": "Ak6NmJU9ko8l"
      },
      "execution_count": null,
      "outputs": []
    },
    {
      "cell_type": "code",
      "source": [
        "# 6. Model performance\n",
        "\n",
        "r2 = r2_score(y, df[\"Predicted_BooksSold\"])\n",
        "mse = mean_squared_error(y, df[\"Predicted_BooksSold\"])\n",
        "mae = mean_absolute_error(y, df[\"Predicted_BooksSold\"])"
      ],
      "metadata": {
        "id": "On5BoZ7Jkqhq"
      },
      "execution_count": null,
      "outputs": []
    },
    {
      "cell_type": "code",
      "source": [
        "# 7. Output results\n",
        "\n",
        "print(\"Linear Regression Model\")\n",
        "print(f\"Predicted_BooksSold = {intercept:.4f} + {coef:.4f} × GoogleAds_(₹1000s)\")\n",
        "print(f\"Intercept: {intercept:.4f}\")\n",
        "print(f\"Coefficient: {coef:.4f} (books per ₹1000 Google Ads)\")\n",
        "print(\"\\nBaseline\")\n",
        "print(f\"Baseline (mean BooksSold): {baseline:.4f}\")\n",
        "\n",
        "print(\"\\nModel Performance\")\n",
        "print(f\"R-squared: {r2:.4f}\")\n",
        "print(f\"MSE: {mse:.4f}\")\n",
        "print(f\"MAE: {mae:.4f}\")\n",
        "\n",
        "print(\"\\nDetailed Table\")\n",
        "print(df.to_string(index=False))"
      ],
      "metadata": {
        "colab": {
          "base_uri": "https://localhost:8080/"
        },
        "id": "xjSuaMfikwfA",
        "outputId": "29d13568-98b8-4db7-c329-ce3ccecf0c93"
      },
      "execution_count": null,
      "outputs": [
        {
          "output_type": "stream",
          "name": "stdout",
          "text": [
            "Linear Regression Model\n",
            "Predicted_BooksSold = 77.8571 + 27.8571 × GoogleAds_(₹1000s)\n",
            "Intercept: 77.8571\n",
            "Coefficient: 27.8571 (books per ₹1000 Google Ads)\n",
            "\n",
            "Baseline\n",
            "Baseline (mean BooksSold): 128.0000\n",
            "\n",
            "Model Performance\n",
            "R-squared: 0.9530\n",
            "MSE: 21.4286\n",
            "MAE: 4.2857\n",
            "\n",
            "Detailed Table\n",
            " GoogleAds_(₹1000s)  BooksSold  Predicted_BooksSold  Baseline     SHAP  Baseline_plus_SHAP  Residual_(Actual-Predicted)                      Over_Under\n",
            "                  1        100             105.7143     128.0 -22.2857            105.7143                      -5.7143 Overprediction (model too high)\n",
            "                  2        130             133.5714     128.0   5.5714            133.5714                      -3.5714 Overprediction (model too high)\n",
            "                  3        160             161.4286     128.0  33.4286            161.4286                      -1.4286 Overprediction (model too high)\n",
            "                  1        110             105.7143     128.0 -22.2857            105.7143                       4.2857 Underprediction (model too low)\n",
            "                  2        140             133.5714     128.0   5.5714            133.5714                       6.4286 Underprediction (model too low)\n"
          ]
        }
      ]
    }
  ]
}